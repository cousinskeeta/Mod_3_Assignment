{
 "cells": [
  {
   "cell_type": "markdown",
   "metadata": {},
   "source": [
    "A company has been testing out different ad configurations on YouTube videos. They have tried modifying the position of the ad within the video, the length of the ad, the location of the call-to-action button linking to their website, the color of the ad background, the background music, and the category of video the ad is placed on.\n",
    "\n",
    "They have compiled a collection of various experiments with the corresponding number of conversions, or visits to their website resulting from each ad, in the 'youtube_ad_data.csv' file.\n",
    "\n",
    "\n",
    "For the following questions, write out the appropriate hypothesis test, calculate the test statistic and signficance, report the power and effect size of the test, run an ad-hoc test if applicable, and write a summary of the results."
   ]
  },
  {
   "cell_type": "code",
   "execution_count": 75,
   "metadata": {},
   "outputs": [],
   "source": [
    "import numpy as np\n",
    "import pandas as pd\n",
    "import scipy.stats as stats\n",
    "import statsmodels.api as sm\n",
    "from statsmodels.formula.api import ols\n",
    "import seaborn as sns\n",
    "import matplotlib.pyplot as plt\n",
    "from statsmodels.stats.power import tt_ind_solve_power\n"
   ]
  },
  {
   "cell_type": "code",
   "execution_count": 2,
   "metadata": {},
   "outputs": [],
   "source": [
    "def cohens_d_one_samp(x, mu0):\n",
    "    return (x.mean() - mu0) / x.std()\n",
    "\n",
    "\n",
    "def cohens_d_two_samp(x,y):\n",
    "    nx = len(x)\n",
    "    ny = len(y)\n",
    "    dof = nx + ny - 2\n",
    "    return (np.mean(x) - np.mean(y)) / np.sqrt(((nx-1)*np.std(x, ddof=1) ** 2 + (ny-1)*np.std(y, ddof=1) ** 2) / dof)"
   ]
  },
  {
   "cell_type": "code",
   "execution_count": 3,
   "metadata": {},
   "outputs": [],
   "source": [
    "df = pd.read_csv('youtube_ad_data.csv')"
   ]
  },
  {
   "cell_type": "code",
   "execution_count": 4,
   "metadata": {
    "scrolled": true
   },
   "outputs": [
    {
     "data": {
      "text/html": [
       "<div>\n",
       "<style scoped>\n",
       "    .dataframe tbody tr th:only-of-type {\n",
       "        vertical-align: middle;\n",
       "    }\n",
       "\n",
       "    .dataframe tbody tr th {\n",
       "        vertical-align: top;\n",
       "    }\n",
       "\n",
       "    .dataframe thead th {\n",
       "        text-align: right;\n",
       "    }\n",
       "</style>\n",
       "<table border=\"1\" class=\"dataframe\">\n",
       "  <thead>\n",
       "    <tr style=\"text-align: right;\">\n",
       "      <th></th>\n",
       "      <th>Conversion</th>\n",
       "      <th>Video_Location</th>\n",
       "      <th>Duration</th>\n",
       "      <th>Button_Location</th>\n",
       "      <th>Background_Color</th>\n",
       "      <th>Video_Type</th>\n",
       "      <th>Background_Music</th>\n",
       "    </tr>\n",
       "  </thead>\n",
       "  <tbody>\n",
       "    <tr>\n",
       "      <th>0</th>\n",
       "      <td>183</td>\n",
       "      <td>beginning</td>\n",
       "      <td>short</td>\n",
       "      <td>lower-right</td>\n",
       "      <td>black</td>\n",
       "      <td>beauty</td>\n",
       "      <td>none</td>\n",
       "    </tr>\n",
       "    <tr>\n",
       "      <th>1</th>\n",
       "      <td>67</td>\n",
       "      <td>end</td>\n",
       "      <td>long</td>\n",
       "      <td>lower-left</td>\n",
       "      <td>green</td>\n",
       "      <td>beauty</td>\n",
       "      <td>classical</td>\n",
       "    </tr>\n",
       "    <tr>\n",
       "      <th>2</th>\n",
       "      <td>154</td>\n",
       "      <td>beginning</td>\n",
       "      <td>medium</td>\n",
       "      <td>middle</td>\n",
       "      <td>red</td>\n",
       "      <td>news</td>\n",
       "      <td>none</td>\n",
       "    </tr>\n",
       "    <tr>\n",
       "      <th>3</th>\n",
       "      <td>168</td>\n",
       "      <td>middle</td>\n",
       "      <td>short</td>\n",
       "      <td>upper-left</td>\n",
       "      <td>black</td>\n",
       "      <td>gaming</td>\n",
       "      <td>none</td>\n",
       "    </tr>\n",
       "    <tr>\n",
       "      <th>4</th>\n",
       "      <td>188</td>\n",
       "      <td>middle</td>\n",
       "      <td>short</td>\n",
       "      <td>upper-left</td>\n",
       "      <td>orange</td>\n",
       "      <td>beauty</td>\n",
       "      <td>hip hop</td>\n",
       "    </tr>\n",
       "  </tbody>\n",
       "</table>\n",
       "</div>"
      ],
      "text/plain": [
       "   Conversion Video_Location Duration Button_Location Background_Color  \\\n",
       "0         183      beginning    short     lower-right            black   \n",
       "1          67            end     long      lower-left            green   \n",
       "2         154      beginning   medium          middle              red   \n",
       "3         168         middle    short      upper-left            black   \n",
       "4         188         middle    short      upper-left           orange   \n",
       "\n",
       "  Video_Type Background_Music  \n",
       "0     beauty             none  \n",
       "1     beauty        classical  \n",
       "2       news             none  \n",
       "3     gaming             none  \n",
       "4     beauty          hip hop  "
      ]
     },
     "execution_count": 4,
     "metadata": {},
     "output_type": "execute_result"
    }
   ],
   "source": [
    "df.head()"
   ]
  },
  {
   "cell_type": "markdown",
   "metadata": {},
   "source": [
    "## 1) Do ads placed on gaming videos lead to higher conversion on average?"
   ]
  },
  {
   "cell_type": "markdown",
   "metadata": {},
   "source": [
    "## Hypothesis test"
   ]
  },
  {
   "cell_type": "markdown",
   "metadata": {},
   "source": [
    "H0 = Ads on gaming videos have no significant effect on Coversion\n",
    "\n",
    "H1 = Ads on gaming videos have a significant effect on Coversion"
   ]
  },
  {
   "cell_type": "markdown",
   "metadata": {},
   "source": [
    "## Sampling"
   ]
  },
  {
   "cell_type": "code",
   "execution_count": 5,
   "metadata": {},
   "outputs": [
    {
     "name": "stdout",
     "output_type": "stream",
     "text": [
      "Sample Not_Gaming: DescribeResult(nobs=1000, minmax=(42, 351), mean=163.499, variance=5581.755754754755, skewness=0.5513318194109296, kurtosis=-0.35769066078075573) \n",
      "\n",
      "Sample Gaming: DescribeResult(nobs=1000, minmax=(63, 339), mean=166.095, variance=4089.1511261261257, skewness=0.8216590907374709, kurtosis=0.5637208565432377) \n",
      "\n"
     ]
    }
   ],
   "source": [
    "not_gaming = df[df.Video_Type != 'gaming']\n",
    "N = not_gaming.Conversion\n",
    "sample_N = N.sample(n=1000, random_state=22,replace=True) #Take a sample of 50 people\n",
    "print('Sample Not_Gaming:',stats.describe(sample_N),'\\n')\n",
    "\n",
    "Gaming = df[df.Video_Type=='gaming']\n",
    "G = Gaming.Conversion\n",
    "sample_G = G.sample(n=1000, random_state=22,replace=True) #Take a sample of 50 people\n",
    "print('Sample Gaming:',stats.describe(sample_G),'\\n')\n"
   ]
  },
  {
   "cell_type": "markdown",
   "metadata": {},
   "source": [
    "## Visualizing Sample Distribution"
   ]
  },
  {
   "cell_type": "code",
   "execution_count": 6,
   "metadata": {
    "scrolled": false
   },
   "outputs": [
    {
     "data": {
      "image/png": "[encoded data removed]",
      "text/plain": [
       "<Figure size 1152x648 with 1 Axes>"
      ]
     },
     "metadata": {},
     "output_type": "display_data"
    }
   ],
   "source": [
    "plt.style.use('seaborn')\n",
    "plt.figure(figsize=(16, 9))\n",
    "sns.distplot(sample_G, hist_kws={ 'color':'orange', 'alpha':0.5, 'label':'Gaming'})\n",
    "sns.distplot(sample_N, hist_kws={ 'color':'blue', 'alpha':0.5, 'label':'Not_Gaming'})\n",
    "plt.legend(fontsize='xx-large')\n",
    "plt.title('Ad Conversion Distrubution by Gaming or Not', fontdict={'fontsize': 'xx-large'})\n",
    "plt.show()\n",
    "\n"
   ]
  },
  {
   "cell_type": "markdown",
   "metadata": {},
   "source": [
    "##  Analysis"
   ]
  },
  {
   "cell_type": "markdown",
   "metadata": {},
   "source": [
    "Since we have have one sample, and do not know the population variance, we will use a One-sample Ttest. We will make the assumption that all videos that are not of type 'gaming' have the same conversion rate as stated in the null hypothesis. We will define the average conversion of these types and assume it to be the same as the population mean."
   ]
  },
  {
   "cell_type": "code",
   "execution_count": 7,
   "metadata": {},
   "outputs": [
    {
     "data": {
      "text/plain": [
       "Conversion    161.658228\n",
       "dtype: float64"
      ]
     },
     "execution_count": 7,
     "metadata": {},
     "output_type": "execute_result"
    }
   ],
   "source": [
    "mu0 = not_gaming.mean()\n",
    "mu0"
   ]
  },
  {
   "cell_type": "markdown",
   "metadata": {},
   "source": [
    "* The assumed mean conversion is roughly 161.66"
   ]
  },
  {
   "cell_type": "code",
   "execution_count": 8,
   "metadata": {
    "scrolled": false
   },
   "outputs": [
    {
     "data": {
      "text/plain": [
       "Ttest_1sampResult(statistic=Conversion    2.19407\n",
       "dtype: float64, pvalue=array([0.02846005]))"
      ]
     },
     "execution_count": 8,
     "metadata": {},
     "output_type": "execute_result"
    }
   ],
   "source": [
    "stats.ttest_1samp(sample_G,mu0)"
   ]
  },
  {
   "cell_type": "markdown",
   "metadata": {},
   "source": [
    "* The p_value is .02 and shows a statistical influence on the assumed population mean. We cannot reject the null hypothesis without further investigation into the effect size"
   ]
  },
  {
   "cell_type": "code",
   "execution_count": 9,
   "metadata": {
    "scrolled": true
   },
   "outputs": [
    {
     "data": {
      "text/plain": [
       "Conversion    0.069383\n",
       "dtype: float64"
      ]
     },
     "execution_count": 9,
     "metadata": {},
     "output_type": "execute_result"
    }
   ],
   "source": [
    "cohens_d_one_samp(sample_G,mu0)"
   ]
  },
  {
   "cell_type": "markdown",
   "metadata": {},
   "source": [
    "* This effect size has a medium to large effect on the mean conversion"
   ]
  },
  {
   "cell_type": "code",
   "execution_count": 48,
   "metadata": {
    "scrolled": true
   },
   "outputs": [
    {
     "data": {
      "text/plain": [
       "Conversion    0.341395\n",
       "dtype: float64"
      ]
     },
     "execution_count": 48,
     "metadata": {},
     "output_type": "execute_result"
    }
   ],
   "source": [
    "effect_size1 = cohens_d_one_samp(sample_G, mu0)\n",
    "effect_size1, nobs1, alpha = effect_size1, sample_G.shape[0], 0.05\n",
    "tt_ind_solve_power(effect_size=effect_size1, nobs1=nobs1, alpha=0.05)\n"
   ]
  },
  {
   "cell_type": "markdown",
   "metadata": {},
   "source": [
    "* This shows our beta, or power, at almost 34%."
   ]
  },
  {
   "cell_type": "markdown",
   "metadata": {},
   "source": [
    "## Summary\n",
    "\n",
    "- Hypothesis Test\n",
    "    * We have significant evidence to reject the null hypothesis\n",
    "    * This means that the means between gaming videos types and other types are different\n",
    "- Effect Size\n",
    "    * The effect size ~ 0.7 which means that there is a large effect on the mean ad conversion of gaming videos . \n",
    "- Power Analysis\n",
    "    * After a power analysis, we're almost 34% certain that we will fail to reject  our null hypothesis when we need to."
   ]
  },
  {
   "cell_type": "markdown",
   "metadata": {},
   "source": [
    "# 2) Is the conversion rate different for ads that are very short versus ads that are long?\n"
   ]
  },
  {
   "cell_type": "markdown",
   "metadata": {},
   "source": [
    "## Hypothesis test"
   ]
  },
  {
   "cell_type": "markdown",
   "metadata": {},
   "source": [
    "H0 = AD conversion rate for short videos is the same as long videos\n",
    "\n",
    "H1 = AD conversion rate for short videos are different than a long videos"
   ]
  },
  {
   "cell_type": "markdown",
   "metadata": {},
   "source": [
    "## Sampling"
   ]
  },
  {
   "cell_type": "code",
   "execution_count": 12,
   "metadata": {
    "scrolled": true
   },
   "outputs": [
    {
     "name": "stdout",
     "output_type": "stream",
     "text": [
      "Sample Short: DescribeResult(nobs=1000, minmax=(55, 339), mean=166.663, variance=4222.4378688688685, skewness=0.42669359166726556, kurtosis=0.5568959625716148) \n",
      "\n",
      "Sample Long: DescribeResult(nobs=1000, minmax=(61, 351), mean=153.138, variance=5453.02397997998, skewness=0.9090378312957955, kurtosis=0.07873989336467968) \n",
      "\n"
     ]
    }
   ],
   "source": [
    "Short = df[df.Duration=='short']\n",
    "S = Short.Conversion\n",
    "sample_S = S.sample(n=1000, random_state=22,replace=True) #Take a sample of 50 people\n",
    "print('Sample Short:',stats.describe(sample_S),'\\n')\n",
    "\n",
    "Long = df[df.Duration=='long']\n",
    "L = Long.Conversion\n",
    "sample_L = L.sample(n=1000, random_state=22,replace=True) #Take a sample of 50 people\n",
    "print('Sample Long:',stats.describe(sample_L),'\\n')"
   ]
  },
  {
   "cell_type": "markdown",
   "metadata": {},
   "source": [
    "## Visualizing Sample Distribution"
   ]
  },
  {
   "cell_type": "code",
   "execution_count": 13,
   "metadata": {
    "scrolled": false
   },
   "outputs": [
    {
     "data": {
      "image/png": "[encoded data removed]",
      "text/plain": [
       "<Figure size 1152x648 with 1 Axes>"
      ]
     },
     "metadata": {},
     "output_type": "display_data"
    }
   ],
   "source": [
    "plt.style.use('seaborn')\n",
    "plt.figure(figsize=(16, 9))\n",
    "sns.distplot(sample_S, hist_kws={ 'color':'red', 'alpha':0.5, 'label':'Short'})\n",
    "sns.distplot(sample_L, hist_kws={ 'color':'blue', 'alpha':0.5, 'label':'Long'})\n",
    "plt.legend(fontsize='xx-large')\n",
    "plt.title('Ad Conversion Distrubution by Duration', fontdict={'fontsize': 'xx-large'})\n",
    "plt.show()"
   ]
  },
  {
   "cell_type": "markdown",
   "metadata": {},
   "source": [
    "##  Analysis"
   ]
  },
  {
   "cell_type": "markdown",
   "metadata": {},
   "source": [
    "Since we have are comparing two samples, and assume normal distribution with unknown variance, we will use a Two-sample Ttest, and also a Mann-Whitney Test. We will make the assumption that short video conversions are equal to long video conversions, as stated in the null hypothesis. "
   ]
  },
  {
   "cell_type": "code",
   "execution_count": null,
   "metadata": {
    "scrolled": false
   },
   "outputs": [],
   "source": [
    "stats.ttest_ind(sample_S, sample_L)"
   ]
  },
  {
   "cell_type": "code",
   "execution_count": 14,
   "metadata": {},
   "outputs": [
    {
     "data": {
      "text/plain": [
       "MannwhitneyuResult(statistic=577656.0, pvalue=1.7936716929832459e-09)"
      ]
     },
     "execution_count": 14,
     "metadata": {},
     "output_type": "execute_result"
    }
   ],
   "source": [
    "stats.mannwhitneyu(sample_S,sample_L,alternative='two-sided')"
   ]
  },
  {
   "cell_type": "markdown",
   "metadata": {},
   "source": [
    "* The p_value is statistically significant and shows a difference between short an long video ad conversions. We have evidence to reject the null hypothesis."
   ]
  },
  {
   "cell_type": "code",
   "execution_count": 15,
   "metadata": {},
   "outputs": [
    {
     "data": {
      "text/plain": [
       "0.19445379314514863"
      ]
     },
     "execution_count": 15,
     "metadata": {},
     "output_type": "execute_result"
    }
   ],
   "source": [
    "cohens_d_two_samp(sample_S, sample_L)"
   ]
  },
  {
   "cell_type": "markdown",
   "metadata": {},
   "source": [
    "* This effect size has a very small influence on ad conversion"
   ]
  },
  {
   "cell_type": "code",
   "execution_count": 47,
   "metadata": {
    "scrolled": true
   },
   "outputs": [
    {
     "data": {
      "text/plain": [
       "0.9914850911797236"
      ]
     },
     "execution_count": 47,
     "metadata": {},
     "output_type": "execute_result"
    }
   ],
   "source": [
    "effect_size2 = cohens_d_two_samp(sample_S, sample_L)\n",
    "effect_size2, nobs3, alpha = effect_size2, sample_S.shape[0], 0.05\n",
    "tt_ind_solve_power(effect_size=effect_size2, nobs1=nobs3, alpha=0.05)\n"
   ]
  },
  {
   "cell_type": "markdown",
   "metadata": {},
   "source": [
    "* This shows our beta, or power, at almost 100%."
   ]
  },
  {
   "cell_type": "markdown",
   "metadata": {},
   "source": [
    "## Summary\n",
    "\n",
    "- Hypothesis Test\n",
    "    * We reject the null hypothesis\n",
    "    * This means that we have significant evidence to reject the null hypothesis.\n",
    "- Effect Size\n",
    "    * The effect size ~ 0.3 which means that there is a small difference in ad conversion of long and short videos. \n",
    "- Power Analysis\n",
    "    * After a power analysis, we're almost 100% certain that we will fail to reject our null hypothesis when we need to."
   ]
  },
  {
   "cell_type": "markdown",
   "metadata": {},
   "source": [
    "# 3) Does it matter what background music is included in an ad?\n"
   ]
  },
  {
   "cell_type": "markdown",
   "metadata": {},
   "source": [
    "## Hypothesis test"
   ]
  },
  {
   "cell_type": "markdown",
   "metadata": {},
   "source": [
    "H0 = All background music has the same coversion rate\n",
    "\n",
    "H1 = At least one type of background music has a different conversion rate"
   ]
  },
  {
   "cell_type": "markdown",
   "metadata": {},
   "source": [
    "## Sampling"
   ]
  },
  {
   "cell_type": "code",
   "execution_count": 17,
   "metadata": {},
   "outputs": [
    {
     "data": {
      "text/plain": [
       "none         30\n",
       "classical    27\n",
       "dance        23\n",
       "hip hop      20\n",
       "Name: Background_Music, dtype: int64"
      ]
     },
     "execution_count": 17,
     "metadata": {},
     "output_type": "execute_result"
    }
   ],
   "source": [
    "df.Background_Music.value_counts()"
   ]
  },
  {
   "cell_type": "code",
   "execution_count": 18,
   "metadata": {
    "scrolled": true
   },
   "outputs": [
    {
     "name": "stdout",
     "output_type": "stream",
     "text": [
      "Classical: DescribeResult(nobs=1000, minmax=(61, 289), mean=118.407, variance=1934.0433943943947, skewness=1.7425178420340965, kurtosis=4.829678000549113) \n",
      "\n",
      "Dance: DescribeResult(nobs=1000, minmax=(42, 343), mean=198.136, variance=4983.841345345345, skewness=0.03522353677728525, kurtosis=0.2700389288753935) \n",
      "\n",
      "Hip-Hop: DescribeResult(nobs=1000, minmax=(55, 351), mean=176.034, variance=6427.92677077077, skewness=0.42998988621237993, kurtosis=-0.5440795041141842) \n",
      "\n"
     ]
    }
   ],
   "source": [
    "classical = df[df.Background_Music=='classical']\n",
    "c = classical.Conversion\n",
    "classic = c.sample(n=1000, random_state=22,replace=True) #Take a sample of 50 people\n",
    "print('Classical:',stats.describe(classic),'\\n')\n",
    "\n",
    "dance = df[df.Background_Music=='dance']\n",
    "d = dance.Conversion\n",
    "dan = d.sample(n=1000, random_state=22,replace=True) #Take a sample of 50 people\n",
    "print('Dance:',stats.describe(dan),'\\n')\n",
    "\n",
    "hiphop = df[df.Background_Music=='hip hop']\n",
    "h = hiphop.Conversion\n",
    "hip = h.sample(n=1000, random_state=22,replace=True) #Take a sample of 50 people\n",
    "print('Hip-Hop:',stats.describe(hip),'\\n')"
   ]
  },
  {
   "cell_type": "markdown",
   "metadata": {},
   "source": [
    "## Visualizing Sample Distribution"
   ]
  },
  {
   "cell_type": "code",
   "execution_count": 19,
   "metadata": {
    "scrolled": false
   },
   "outputs": [
    {
     "data": {
      "image/png": "[encoded data removed]",
      "text/plain": [
       "<Figure size 1152x648 with 1 Axes>"
      ]
     },
     "metadata": {},
     "output_type": "display_data"
    }
   ],
   "source": [
    "plt.style.use('seaborn')\n",
    "plt.figure(figsize=(16, 9))\n",
    "sns.distplot(classic, hist_kws={ 'color':'red', 'alpha':0.5, 'label':'Classical'})\n",
    "sns.distplot(dan, hist_kws={ 'color':'green', 'alpha':0.5, 'label':'Dance'})\n",
    "sns.distplot(hip, hist_kws={ 'color':'gold', 'alpha':0.5, 'label':'Hip-Hop'})\n",
    "\n",
    "plt.legend(fontsize='xx-large')\n",
    "plt.title('Vids by/ Background Music', fontdict={'fontsize': 'xx-large'})\n",
    "plt.show()"
   ]
  },
  {
   "cell_type": "markdown",
   "metadata": {},
   "source": [
    "##  Analysis"
   ]
  },
  {
   "cell_type": "markdown",
   "metadata": {},
   "source": [
    "Since we have have more than two samples, and the values correspond to only one feature (Back Ground Music), we will use a One-Way Anova to identify any significant differnce in conversion rate. We will make the assumption that all types of background music will have the same conversion rate as stated in the null hypothesis. We will determine if at least one type of background music has a different conversion rate, which will reject our null hypothesis."
   ]
  },
  {
   "cell_type": "code",
   "execution_count": 34,
   "metadata": {
    "scrolled": true
   },
   "outputs": [
    {
     "name": "stdout",
     "output_type": "stream",
     "text": [
      "F-stat: 380.87166771363763\n",
      "p-value: 4.1081066386995276e-148\n"
     ]
    }
   ],
   "source": [
    "f_stat,p_value = stats.f_oneway(classic,dan,hip)\n",
    "print('F-stat:',f_stat)\n",
    "print('p-value:',p_value)"
   ]
  },
  {
   "cell_type": "code",
   "execution_count": 76,
   "metadata": {},
   "outputs": [
    {
     "data": {
      "text/plain": [
       "KruskalResult(statistic=727.606587888688, pvalue=1.005164036625849e-158)"
      ]
     },
     "execution_count": 76,
     "metadata": {},
     "output_type": "execute_result"
    }
   ],
   "source": [
    "stats.kruskal(dan,hip,classic)"
   ]
  },
  {
   "cell_type": "markdown",
   "metadata": {},
   "source": [
    "* The p_value is statistically significant and shows at least one difference between background music songs' ad conversions. We have evidence to reject the null hypothesis based on the One-Way Anova parametric test and the Kruskal Wallis non-parametric test."
   ]
  },
  {
   "cell_type": "code",
   "execution_count": 28,
   "metadata": {},
   "outputs": [
    {
     "name": "stdout",
     "output_type": "stream",
     "text": [
      "<class 'pandas.core.frame.DataFrame'>\n",
      "RangeIndex: 100 entries, 0 to 99\n",
      "Data columns (total 7 columns):\n",
      "Conversion          100 non-null int64\n",
      "Video_Location      100 non-null object\n",
      "Duration            100 non-null object\n",
      "Button_Location     100 non-null object\n",
      "Background_Color    100 non-null object\n",
      "Video_Type          100 non-null object\n",
      "Background_Music    100 non-null object\n",
      "dtypes: int64(1), object(6)\n",
      "memory usage: 5.5+ KB\n",
      "None\n"
     ]
    },
    {
     "data": {
      "text/html": [
       "<div>\n",
       "<style scoped>\n",
       "    .dataframe tbody tr th:only-of-type {\n",
       "        vertical-align: middle;\n",
       "    }\n",
       "\n",
       "    .dataframe tbody tr th {\n",
       "        vertical-align: top;\n",
       "    }\n",
       "\n",
       "    .dataframe thead th {\n",
       "        text-align: right;\n",
       "    }\n",
       "</style>\n",
       "<table border=\"1\" class=\"dataframe\">\n",
       "  <thead>\n",
       "    <tr style=\"text-align: right;\">\n",
       "      <th></th>\n",
       "      <th>Conversion</th>\n",
       "      <th>Song_cat</th>\n",
       "      <th>Song_classical</th>\n",
       "      <th>Song_dance</th>\n",
       "      <th>Song_hiphop</th>\n",
       "      <th>Song</th>\n",
       "    </tr>\n",
       "  </thead>\n",
       "  <tbody>\n",
       "    <tr>\n",
       "      <th>0</th>\n",
       "      <td>118</td>\n",
       "      <td>0</td>\n",
       "      <td>1</td>\n",
       "      <td>0</td>\n",
       "      <td>0</td>\n",
       "      <td>classical</td>\n",
       "    </tr>\n",
       "    <tr>\n",
       "      <th>1</th>\n",
       "      <td>289</td>\n",
       "      <td>0</td>\n",
       "      <td>1</td>\n",
       "      <td>0</td>\n",
       "      <td>0</td>\n",
       "      <td>classical</td>\n",
       "    </tr>\n",
       "    <tr>\n",
       "      <th>2</th>\n",
       "      <td>66</td>\n",
       "      <td>0</td>\n",
       "      <td>1</td>\n",
       "      <td>0</td>\n",
       "      <td>0</td>\n",
       "      <td>classical</td>\n",
       "    </tr>\n",
       "    <tr>\n",
       "      <th>3</th>\n",
       "      <td>67</td>\n",
       "      <td>0</td>\n",
       "      <td>1</td>\n",
       "      <td>0</td>\n",
       "      <td>0</td>\n",
       "      <td>classical</td>\n",
       "    </tr>\n",
       "    <tr>\n",
       "      <th>4</th>\n",
       "      <td>289</td>\n",
       "      <td>0</td>\n",
       "      <td>1</td>\n",
       "      <td>0</td>\n",
       "      <td>0</td>\n",
       "      <td>classical</td>\n",
       "    </tr>\n",
       "  </tbody>\n",
       "</table>\n",
       "</div>"
      ],
      "text/plain": [
       "   Conversion  Song_cat  Song_classical  Song_dance  Song_hiphop       Song\n",
       "0         118         0               1           0            0  classical\n",
       "1         289         0               1           0            0  classical\n",
       "2          66         0               1           0            0  classical\n",
       "3          67         0               1           0            0  classical\n",
       "4         289         0               1           0            0  classical"
      ]
     },
     "execution_count": 28,
     "metadata": {},
     "output_type": "execute_result"
    }
   ],
   "source": [
    "import pandas as pd\n",
    "df2 = pd.DataFrame()\n",
    "df2['Song'] = ['classical']*len(classic) + ['dance']*len(dan) + ['hiphop']*len(hip)\n",
    "df2['Conversion'] = list(classic) + list(dan) + list(hip)\n",
    "df2['Song'] = df2['Song'].astype('category')\n",
    "print(df.info())\n",
    "df2['Song_cat'] = df2['Song'].cat.codes\n",
    "df2 = pd.get_dummies(df2)\n",
    "df2['Song'] = ['classical']*len(classic) + ['dance']*len(dan) + ['hiphop']*len(hip) \n",
    "df2.head()"
   ]
  },
  {
   "cell_type": "code",
   "execution_count": 33,
   "metadata": {},
   "outputs": [
    {
     "data": {
      "text/html": [
       "<table class=\"simpletable\">\n",
       "<caption>OLS Regression Results</caption>\n",
       "<tr>\n",
       "  <th>Dep. Variable:</th>       <td>Conversion</td>    <th>  R-squared:         </th> <td>   0.203</td> \n",
       "</tr>\n",
       "<tr>\n",
       "  <th>Model:</th>                   <td>OLS</td>       <th>  Adj. R-squared:    </th> <td>   0.202</td> \n",
       "</tr>\n",
       "<tr>\n",
       "  <th>Method:</th>             <td>Least Squares</td>  <th>  F-statistic:       </th> <td>   380.9</td> \n",
       "</tr>\n",
       "<tr>\n",
       "  <th>Date:</th>             <td>Sat, 30 Nov 2019</td> <th>  Prob (F-statistic):</th> <td>4.11e-148</td>\n",
       "</tr>\n",
       "<tr>\n",
       "  <th>Time:</th>                 <td>11:09:45</td>     <th>  Log-Likelihood:    </th> <td> -16856.</td> \n",
       "</tr>\n",
       "<tr>\n",
       "  <th>No. Observations:</th>      <td>  3000</td>      <th>  AIC:               </th> <td>3.372e+04</td>\n",
       "</tr>\n",
       "<tr>\n",
       "  <th>Df Residuals:</th>          <td>  2997</td>      <th>  BIC:               </th> <td>3.374e+04</td>\n",
       "</tr>\n",
       "<tr>\n",
       "  <th>Df Model:</th>              <td>     2</td>      <th>                     </th>     <td> </td>    \n",
       "</tr>\n",
       "<tr>\n",
       "  <th>Covariance Type:</th>      <td>nonrobust</td>    <th>                     </th>     <td> </td>    \n",
       "</tr>\n",
       "</table>\n",
       "<table class=\"simpletable\">\n",
       "<tr>\n",
       "         <td></td>           <th>coef</th>     <th>std err</th>      <th>t</th>      <th>P>|t|</th>  <th>[0.025</th>    <th>0.975]</th>  \n",
       "</tr>\n",
       "<tr>\n",
       "  <th>const</th>          <td>  123.1443</td> <td>    0.913</td> <td>  134.835</td> <td> 0.000</td> <td>  121.353</td> <td>  124.935</td>\n",
       "</tr>\n",
       "<tr>\n",
       "  <th>Song_classical</th> <td>   -4.7373</td> <td>    1.749</td> <td>   -2.709</td> <td> 0.007</td> <td>   -8.166</td> <td>   -1.308</td>\n",
       "</tr>\n",
       "<tr>\n",
       "  <th>Song_dance</th>     <td>   74.9918</td> <td>    1.749</td> <td>   42.881</td> <td> 0.000</td> <td>   71.563</td> <td>   78.421</td>\n",
       "</tr>\n",
       "<tr>\n",
       "  <th>Song_hiphop</th>    <td>   52.8898</td> <td>    1.749</td> <td>   30.243</td> <td> 0.000</td> <td>   49.461</td> <td>   56.319</td>\n",
       "</tr>\n",
       "</table>\n",
       "<table class=\"simpletable\">\n",
       "<tr>\n",
       "  <th>Omnibus:</th>       <td>111.226</td> <th>  Durbin-Watson:     </th> <td>   2.016</td>\n",
       "</tr>\n",
       "<tr>\n",
       "  <th>Prob(Omnibus):</th> <td> 0.000</td>  <th>  Jarque-Bera (JB):  </th> <td> 132.872</td>\n",
       "</tr>\n",
       "<tr>\n",
       "  <th>Skew:</th>          <td> 0.429</td>  <th>  Prob(JB):          </th> <td>1.40e-29</td>\n",
       "</tr>\n",
       "<tr>\n",
       "  <th>Kurtosis:</th>      <td> 3.571</td>  <th>  Cond. No.          </th> <td>3.39e+15</td>\n",
       "</tr>\n",
       "</table><br/><br/>Warnings:<br/>[1] Standard Errors assume that the covariance matrix of the errors is correctly specified.<br/>[2] The smallest eigenvalue is 3.47e-28. This might indicate that there are<br/>strong multicollinearity problems or that the design matrix is singular."
      ],
      "text/plain": [
       "<class 'statsmodels.iolib.summary.Summary'>\n",
       "\"\"\"\n",
       "                            OLS Regression Results                            \n",
       "==============================================================================\n",
       "Dep. Variable:             Conversion   R-squared:                       0.203\n",
       "Model:                            OLS   Adj. R-squared:                  0.202\n",
       "Method:                 Least Squares   F-statistic:                     380.9\n",
       "Date:                Sat, 30 Nov 2019   Prob (F-statistic):          4.11e-148\n",
       "Time:                        11:09:45   Log-Likelihood:                -16856.\n",
       "No. Observations:                3000   AIC:                         3.372e+04\n",
       "Df Residuals:                    2997   BIC:                         3.374e+04\n",
       "Df Model:                           2                                         \n",
       "Covariance Type:            nonrobust                                         \n",
       "==================================================================================\n",
       "                     coef    std err          t      P>|t|      [0.025      0.975]\n",
       "----------------------------------------------------------------------------------\n",
       "const            123.1443      0.913    134.835      0.000     121.353     124.935\n",
       "Song_classical    -4.7373      1.749     -2.709      0.007      -8.166      -1.308\n",
       "Song_dance        74.9918      1.749     42.881      0.000      71.563      78.421\n",
       "Song_hiphop       52.8898      1.749     30.243      0.000      49.461      56.319\n",
       "==============================================================================\n",
       "Omnibus:                      111.226   Durbin-Watson:                   2.016\n",
       "Prob(Omnibus):                  0.000   Jarque-Bera (JB):              132.872\n",
       "Skew:                           0.429   Prob(JB):                     1.40e-29\n",
       "Kurtosis:                       3.571   Cond. No.                     3.39e+15\n",
       "==============================================================================\n",
       "\n",
       "Warnings:\n",
       "[1] Standard Errors assume that the covariance matrix of the errors is correctly specified.\n",
       "[2] The smallest eigenvalue is 3.47e-28. This might indicate that there are\n",
       "strong multicollinearity problems or that the design matrix is singular.\n",
       "\"\"\""
      ]
     },
     "execution_count": 33,
     "metadata": {},
     "output_type": "execute_result"
    }
   ],
   "source": [
    "import statsmodels.api as sm\n",
    "results = sm.OLS(df2['Conversion'], \n",
    "                 sm.add_constant(df2[['Song_classical','Song_dance','Song_hiphop']])).fit()\n",
    "results.summary()"
   ]
  },
  {
   "cell_type": "markdown",
   "metadata": {},
   "source": [
    "* adding a constant to the categories we can see that dance has te heighest coefficient"
   ]
  },
  {
   "cell_type": "code",
   "execution_count": 45,
   "metadata": {},
   "outputs": [
    {
     "data": {
      "text/html": [
       "<table class=\"simpletable\">\n",
       "<caption>OLS Regression Results</caption>\n",
       "<tr>\n",
       "  <th>Dep. Variable:</th>       <td>Conversion</td>    <th>  R-squared (uncentered):</th>      <td>   0.620</td> \n",
       "</tr>\n",
       "<tr>\n",
       "  <th>Model:</th>                   <td>OLS</td>       <th>  Adj. R-squared (uncentered):</th> <td>   0.620</td> \n",
       "</tr>\n",
       "<tr>\n",
       "  <th>Method:</th>             <td>Least Squares</td>  <th>  F-statistic:       </th>          <td>   4900.</td> \n",
       "</tr>\n",
       "<tr>\n",
       "  <th>Date:</th>             <td>Sat, 30 Nov 2019</td> <th>  Prob (F-statistic):</th>           <td>  0.00</td>  \n",
       "</tr>\n",
       "<tr>\n",
       "  <th>Time:</th>                 <td>11:23:32</td>     <th>  Log-Likelihood:    </th>          <td> -18389.</td> \n",
       "</tr>\n",
       "<tr>\n",
       "  <th>No. Observations:</th>      <td>  3000</td>      <th>  AIC:               </th>          <td>3.678e+04</td>\n",
       "</tr>\n",
       "<tr>\n",
       "  <th>Df Residuals:</th>          <td>  2999</td>      <th>  BIC:               </th>          <td>3.679e+04</td>\n",
       "</tr>\n",
       "<tr>\n",
       "  <th>Df Model:</th>              <td>     1</td>      <th>                     </th>              <td> </td>    \n",
       "</tr>\n",
       "<tr>\n",
       "  <th>Covariance Type:</th>      <td>nonrobust</td>    <th>                     </th>              <td> </td>    \n",
       "</tr>\n",
       "</table>\n",
       "<table class=\"simpletable\">\n",
       "<tr>\n",
       "      <td></td>        <th>coef</th>     <th>std err</th>      <th>t</th>      <th>P>|t|</th>  <th>[0.025</th>    <th>0.975]</th>  \n",
       "</tr>\n",
       "<tr>\n",
       "  <th>Song_cat</th> <td>  110.0408</td> <td>    1.572</td> <td>   70.002</td> <td> 0.000</td> <td>  106.959</td> <td>  113.123</td>\n",
       "</tr>\n",
       "</table>\n",
       "<table class=\"simpletable\">\n",
       "<tr>\n",
       "  <th>Omnibus:</th>       <td>109.112</td> <th>  Durbin-Watson:     </th> <td>   0.727</td>\n",
       "</tr>\n",
       "<tr>\n",
       "  <th>Prob(Omnibus):</th> <td> 0.000</td>  <th>  Jarque-Bera (JB):  </th> <td> 116.154</td>\n",
       "</tr>\n",
       "<tr>\n",
       "  <th>Skew:</th>          <td>-0.464</td>  <th>  Prob(JB):          </th> <td>5.99e-26</td>\n",
       "</tr>\n",
       "<tr>\n",
       "  <th>Kurtosis:</th>      <td> 2.741</td>  <th>  Cond. No.          </th> <td>    1.00</td>\n",
       "</tr>\n",
       "</table><br/><br/>Warnings:<br/>[1] Standard Errors assume that the covariance matrix of the errors is correctly specified."
      ],
      "text/plain": [
       "<class 'statsmodels.iolib.summary.Summary'>\n",
       "\"\"\"\n",
       "                                 OLS Regression Results                                \n",
       "=======================================================================================\n",
       "Dep. Variable:             Conversion   R-squared (uncentered):                   0.620\n",
       "Model:                            OLS   Adj. R-squared (uncentered):              0.620\n",
       "Method:                 Least Squares   F-statistic:                              4900.\n",
       "Date:                Sat, 30 Nov 2019   Prob (F-statistic):                        0.00\n",
       "Time:                        11:23:32   Log-Likelihood:                         -18389.\n",
       "No. Observations:                3000   AIC:                                  3.678e+04\n",
       "Df Residuals:                    2999   BIC:                                  3.679e+04\n",
       "Df Model:                           1                                                  \n",
       "Covariance Type:            nonrobust                                                  \n",
       "==============================================================================\n",
       "                 coef    std err          t      P>|t|      [0.025      0.975]\n",
       "------------------------------------------------------------------------------\n",
       "Song_cat     110.0408      1.572     70.002      0.000     106.959     113.123\n",
       "==============================================================================\n",
       "Omnibus:                      109.112   Durbin-Watson:                   0.727\n",
       "Prob(Omnibus):                  0.000   Jarque-Bera (JB):              116.154\n",
       "Skew:                          -0.464   Prob(JB):                     5.99e-26\n",
       "Kurtosis:                       2.741   Cond. No.                         1.00\n",
       "==============================================================================\n",
       "\n",
       "Warnings:\n",
       "[1] Standard Errors assume that the covariance matrix of the errors is correctly specified.\n",
       "\"\"\""
      ]
     },
     "execution_count": 45,
     "metadata": {},
     "output_type": "execute_result"
    }
   ],
   "source": [
    "import statsmodels.api as sm\n",
    "results = sm.OLS(df2['Conversion'], df2['Song_cat']).fit()\n",
    "results.summary()"
   ]
  },
  {
   "cell_type": "markdown",
   "metadata": {},
   "source": [
    "* These result tables shows a significant p_values for each song type, and suggests which song has the more influence on ad conversion, so we will perform additional tests to confirm the "
   ]
  },
  {
   "cell_type": "code",
   "execution_count": 36,
   "metadata": {},
   "outputs": [
    {
     "data": {
      "text/html": [
       "<div>\n",
       "<style scoped>\n",
       "    .dataframe tbody tr th:only-of-type {\n",
       "        vertical-align: middle;\n",
       "    }\n",
       "\n",
       "    .dataframe tbody tr th {\n",
       "        vertical-align: top;\n",
       "    }\n",
       "\n",
       "    .dataframe thead th {\n",
       "        text-align: right;\n",
       "    }\n",
       "</style>\n",
       "<table border=\"1\" class=\"dataframe\">\n",
       "  <thead>\n",
       "    <tr style=\"text-align: right;\">\n",
       "      <th></th>\n",
       "      <th>df</th>\n",
       "      <th>sum_sq</th>\n",
       "      <th>mean_sq</th>\n",
       "      <th>F</th>\n",
       "      <th>PR(&gt;F)</th>\n",
       "    </tr>\n",
       "  </thead>\n",
       "  <tbody>\n",
       "    <tr>\n",
       "      <th>C(Song)</th>\n",
       "      <td>2.0</td>\n",
       "      <td>3.388694e+06</td>\n",
       "      <td>1.694347e+06</td>\n",
       "      <td>380.871668</td>\n",
       "      <td>4.108107e-148</td>\n",
       "    </tr>\n",
       "    <tr>\n",
       "      <th>Residual</th>\n",
       "      <td>2997.0</td>\n",
       "      <td>1.333247e+07</td>\n",
       "      <td>4.448604e+03</td>\n",
       "      <td>NaN</td>\n",
       "      <td>NaN</td>\n",
       "    </tr>\n",
       "  </tbody>\n",
       "</table>\n",
       "</div>"
      ],
      "text/plain": [
       "              df        sum_sq       mean_sq           F         PR(>F)\n",
       "C(Song)      2.0  3.388694e+06  1.694347e+06  380.871668  4.108107e-148\n",
       "Residual  2997.0  1.333247e+07  4.448604e+03         NaN            NaN"
      ]
     },
     "execution_count": 36,
     "metadata": {},
     "output_type": "execute_result"
    }
   ],
   "source": [
    "sm.stats.anova_lm(ols('Conversion ~ C(Song)', data=df2).fit())"
   ]
  },
  {
   "cell_type": "markdown",
   "metadata": {},
   "source": [
    "* We can see the song has a significant influence on ad conversion."
   ]
  },
  {
   "cell_type": "code",
   "execution_count": 46,
   "metadata": {
    "scrolled": false
   },
   "outputs": [
    {
     "data": {
      "text/html": [
       "<table class=\"simpletable\">\n",
       "<caption>Multiple Comparison of Means - Tukey HSD, FWER=0.05</caption>\n",
       "<tr>\n",
       "   <th>group1</th>   <th>group2</th> <th>meandiff</th> <th>p-adj</th>   <th>lower</th>    <th>upper</th>  <th>reject</th>\n",
       "</tr>\n",
       "<tr>\n",
       "  <td>classical</td>  <td>dance</td>  <td>79.729</td>  <td>0.001</td>  <td>72.7346</td>  <td>86.7234</td>  <td>True</td> \n",
       "</tr>\n",
       "<tr>\n",
       "  <td>classical</td> <td>hiphop</td>  <td>57.627</td>  <td>0.001</td>  <td>50.6326</td>  <td>64.6214</td>  <td>True</td> \n",
       "</tr>\n",
       "<tr>\n",
       "    <td>dance</td>   <td>hiphop</td>  <td>-22.102</td> <td>0.001</td> <td>-29.0964</td> <td>-15.1076</td>  <td>True</td> \n",
       "</tr>\n",
       "</table>"
      ],
      "text/plain": [
       "<class 'statsmodels.iolib.table.SimpleTable'>"
      ]
     },
     "execution_count": 46,
     "metadata": {},
     "output_type": "execute_result"
    }
   ],
   "source": [
    "from statsmodels.stats.multicomp import pairwise_tukeyhsd\n",
    "tukey_results = pairwise_tukeyhsd(df2['Conversion'], df2['Song'])\n",
    "tukey_results.summary()\n"
   ]
  },
  {
   "cell_type": "markdown",
   "metadata": {},
   "source": [
    "* Here we used teh tukey pairwise test to see which type of music would reject the null."
   ]
  },
  {
   "cell_type": "code",
   "execution_count": 74,
   "metadata": {},
   "outputs": [
    {
     "name": "stderr",
     "output_type": "stream",
     "text": [
      "/Users/jacobtadesse/anaconda3/lib/python3.7/site-packages/ipykernel_launcher.py:1: UserWarning: Matplotlib is currently using module://ipykernel.pylab.backend_inline, which is a non-GUI backend, so cannot show the figure.\n",
      "  \"\"\"Entry point for launching an IPython kernel.\n"
     ]
    },
    {
     "data": {
      "image/png": "[encoded data removed]",
      "text/plain": [
       "<Figure size 720x432 with 1 Axes>"
      ]
     },
     "metadata": {},
     "output_type": "display_data"
    }
   ],
   "source": [
    "tukey_results.plot_simultaneous().show();"
   ]
  },
  {
   "cell_type": "markdown",
   "metadata": {},
   "source": [
    "* above we can see that dance has the highest influence on conversion when compared to other music types in the Song group."
   ]
  },
  {
   "cell_type": "code",
   "execution_count": 80,
   "metadata": {},
   "outputs": [
    {
     "name": "stdout",
     "output_type": "stream",
     "text": [
      "Effect size of Dance vs classical: 1.3556408711652244\n",
      "Power of effect: 1.0\n"
     ]
    }
   ],
   "source": [
    "effect_size3 = cohens_d_two_samp(dan,classic)\n",
    "print('Effect size of Dance vs classical:', effect_size3)\n",
    "effect_size3, nobs3, alpha = effect_size3, dan.shape[0], 0.05\n",
    "power = tt_ind_solve_power(effect_size=effect_size3, nobs1=nobs3, alpha=0.05)\n",
    "print('Power of effect:',power)"
   ]
  },
  {
   "cell_type": "code",
   "execution_count": 71,
   "metadata": {},
   "outputs": [
    {
     "name": "stdout",
     "output_type": "stream",
     "text": [
      "Effect size of Hiphop vs Classical: 0.8912236491614998\n",
      "Power of effect: 1.0\n"
     ]
    }
   ],
   "source": [
    "effect_size4 = cohens_d_two_samp(hip,classic)\n",
    "print('Effect size of Hiphop vs Classical:', effect_size4)\n",
    "effect_size4, nobs4, alpha = effect_size4, hip.shape[0], 0.05\n",
    "power = tt_ind_solve_power(effect_size=effect_size4, nobs1=nobs4, alpha=0.05)\n",
    "print('Power of effect:',power)"
   ]
  },
  {
   "cell_type": "code",
   "execution_count": 72,
   "metadata": {},
   "outputs": [
    {
     "name": "stdout",
     "output_type": "stream",
     "text": [
      "Effect size of Dance vs Hip Hop: 0.2925971578234025\n",
      "Power of effect: 1.0\n"
     ]
    }
   ],
   "source": [
    "effect_size5 = cohens_d_two_samp(dan,hip)\n",
    "print('Effect size of Dance vs Hip Hop:', effect_size5)\n",
    "effect_size5, nobs5, alpha = effect_size5, dan.shape[0], 0.05\n",
    "power = tt_ind_solve_power(effect_size=effect_size5, nobs1=nobs5, alpha=0.05)\n",
    "print('Power of effect:',power)"
   ]
  },
  {
   "cell_type": "markdown",
   "metadata": {},
   "source": [
    "* This shows our beta, or power, at almost 100% for Dance vs Hip Hop, Classical vs Dance and classical vs. hiphop."
   ]
  },
  {
   "cell_type": "markdown",
   "metadata": {},
   "source": [
    "## Summary\n",
    "\n",
    "- Hypothesis Test\n",
    "    * We have significant evidence to reject the null hypothesis, meaning songs have significant influence on ad conversion.\n",
    "- Effect Size\n",
    "    * The effect size ~ 1.13 between dance and classical which means that there is a large difference in ad conversion between the two. The effect size between hip hop and classical is about ~ .89, which is also a large difference in ad conversion between those two. With the effect size of ~.29, we see a small difference between the two. \n",
    "- Power Analysis\n",
    "    * After a power analysis, we're almost 100% certain that we will fail to reject our null hypothesis when we need to."
   ]
  },
  {
   "cell_type": "markdown",
   "metadata": {},
   "source": [
    "# 4) Is the conversion rate for ads placed at the beginning, middle, or end of a video different depending on where the call-to-action button is place?"
   ]
  },
  {
   "cell_type": "markdown",
   "metadata": {},
   "source": [
    "## Hypothesis test"
   ]
  },
  {
   "cell_type": "markdown",
   "metadata": {},
   "source": [
    "* Aµ1...Aµk = avg conversion rate at beginning, middle and end are all equal\n",
    "* Bµ1...Bµk = avg conversion rate where th call-to-action button is placed is equal in all locations"
   ]
  },
  {
   "cell_type": "markdown",
   "metadata": {
    "slideshow": {
     "slide_type": "fragment"
    }
   },
   "source": [
    "* Null Hypothesis (H<sub>0</sub>): Aµ1 = Aµ2 = Aµ3  = ...   = Aµk \n",
    "\n",
    "* Null Hypothesis (H<sub>0</sub>): Bµ1 = Bµ2 = Bµ3  = ...   = Bµk \n",
    "\n",
    "* Null Hypothesis (H<sub>0</sub>): A * B = 0, or there is no interaction between A and B"
   ]
  },
  {
   "cell_type": "markdown",
   "metadata": {
    "slideshow": {
     "slide_type": "fragment"
    }
   },
   "source": [
    "* Alternative Hypothesis (H<sub>a</sub>): At least one Aµk is different\n",
    "\n",
    "* Alternative Hypothesis (H<sub>a</sub>): At least one Bµk is different\n",
    "\n",
    "* Alternative Hypothesis (H<sub>a</sub>): A * B != 0, or there is some interaction between A and B"
   ]
  },
  {
   "cell_type": "markdown",
   "metadata": {},
   "source": [
    "## ANONA Modeling"
   ]
  },
  {
   "cell_type": "code",
   "execution_count": 81,
   "metadata": {
    "slideshow": {
     "slide_type": "fragment"
    }
   },
   "outputs": [
    {
     "data": {
      "text/html": [
       "<div>\n",
       "<style scoped>\n",
       "    .dataframe tbody tr th:only-of-type {\n",
       "        vertical-align: middle;\n",
       "    }\n",
       "\n",
       "    .dataframe tbody tr th {\n",
       "        vertical-align: top;\n",
       "    }\n",
       "\n",
       "    .dataframe thead th {\n",
       "        text-align: right;\n",
       "    }\n",
       "</style>\n",
       "<table border=\"1\" class=\"dataframe\">\n",
       "  <thead>\n",
       "    <tr style=\"text-align: right;\">\n",
       "      <th></th>\n",
       "      <th>sum_sq</th>\n",
       "      <th>df</th>\n",
       "      <th>F</th>\n",
       "      <th>PR(&gt;F)</th>\n",
       "    </tr>\n",
       "  </thead>\n",
       "  <tbody>\n",
       "    <tr>\n",
       "      <th>Video_Location</th>\n",
       "      <td>102786.580150</td>\n",
       "      <td>2.0</td>\n",
       "      <td>16.522277</td>\n",
       "      <td>8.676633e-07</td>\n",
       "    </tr>\n",
       "    <tr>\n",
       "      <th>Button_Location</th>\n",
       "      <td>96569.805727</td>\n",
       "      <td>4.0</td>\n",
       "      <td>7.761485</td>\n",
       "      <td>2.217706e-05</td>\n",
       "    </tr>\n",
       "    <tr>\n",
       "      <th>Video_Location:Button_Location</th>\n",
       "      <td>52158.534505</td>\n",
       "      <td>8.0</td>\n",
       "      <td>2.096037</td>\n",
       "      <td>4.486467e-02</td>\n",
       "    </tr>\n",
       "    <tr>\n",
       "      <th>Residual</th>\n",
       "      <td>264396.344517</td>\n",
       "      <td>85.0</td>\n",
       "      <td>NaN</td>\n",
       "      <td>NaN</td>\n",
       "    </tr>\n",
       "  </tbody>\n",
       "</table>\n",
       "</div>"
      ],
      "text/plain": [
       "                                       sum_sq    df          F        PR(>F)\n",
       "Video_Location                  102786.580150   2.0  16.522277  8.676633e-07\n",
       "Button_Location                  96569.805727   4.0   7.761485  2.217706e-05\n",
       "Video_Location:Button_Location   52158.534505   8.0   2.096037  4.486467e-02\n",
       "Residual                        264396.344517  85.0        NaN           NaN"
      ]
     },
     "execution_count": 81,
     "metadata": {},
     "output_type": "execute_result"
    }
   ],
   "source": [
    "sm.stats.anova_lm(ols('Conversion ~ Video_Location*Button_Location', data=df).fit(), typ=2)"
   ]
  },
  {
   "cell_type": "markdown",
   "metadata": {},
   "source": [
    "##  Analysis"
   ]
  },
  {
   "cell_type": "code",
   "execution_count": 82,
   "metadata": {},
   "outputs": [],
   "source": [
    "from statsmodels.stats.multicomp import pairwise_tukeyhsd"
   ]
  },
  {
   "cell_type": "code",
   "execution_count": 83,
   "metadata": {
    "slideshow": {
     "slide_type": "slide"
    }
   },
   "outputs": [
    {
     "data": {
      "text/html": [
       "<table class=\"simpletable\">\n",
       "<caption>Multiple Comparison of Means - Tukey HSD, FWER=0.05</caption>\n",
       "<tr>\n",
       "         <th>group1</th>               <th>group2</th>        <th>meandiff</th>   <th>p-adj</th>   <th>lower</th>     <th>upper</th>  <th>reject</th>\n",
       "</tr>\n",
       "<tr>\n",
       "   <td>beginninglower-left</td> <td>beginninglower-right</td>   <td>82.7</td>    <td>0.3191</td> <td>-24.0106</td>  <td>189.4106</td>  <td>False</td>\n",
       "</tr>\n",
       "<tr>\n",
       "   <td>beginninglower-left</td>    <td>beginningmiddle</td>   <td>-11.3571</td>    <td>0.9</td>  <td>-107.3685</td>  <td>84.6542</td>  <td>False</td>\n",
       "</tr>\n",
       "<tr>\n",
       "   <td>beginninglower-left</td>  <td>beginningupper-left</td>  <td>-1.5833</td>    <td>0.9</td>  <td>-85.0028</td>   <td>81.8362</td>  <td>False</td>\n",
       "</tr>\n",
       "<tr>\n",
       "   <td>beginninglower-left</td> <td>beginningupper-right</td>  <td>86.8333</td>  <td>0.5405</td> <td>-41.4168</td>  <td>215.0835</td>  <td>False</td>\n",
       "</tr>\n",
       "<tr>\n",
       "   <td>beginninglower-left</td>     <td>endlower-left</td>    <td>-22.6667</td>    <td>0.9</td>  <td>-123.2744</td>  <td>77.9411</td>  <td>False</td>\n",
       "</tr>\n",
       "<tr>\n",
       "   <td>beginninglower-left</td>    <td>endlower-right</td>      <td>64.5</td>      <td>0.9</td>  <td>-63.7502</td>  <td>192.7502</td>  <td>False</td>\n",
       "</tr>\n",
       "<tr>\n",
       "   <td>beginninglower-left</td>       <td>endmiddle</td>        <td>-16.1</td>     <td>0.9</td>  <td>-103.2288</td>  <td>71.0288</td>  <td>False</td>\n",
       "</tr>\n",
       "<tr>\n",
       "   <td>beginninglower-left</td>     <td>endupper-left</td>      <td>20.7</td>      <td>0.9</td>  <td>-86.0106</td>  <td>127.4106</td>  <td>False</td>\n",
       "</tr>\n",
       "<tr>\n",
       "   <td>beginninglower-left</td>    <td>endupper-right</td>      <td>22.25</td>     <td>0.9</td>  <td>-93.0106</td>  <td>137.5106</td>  <td>False</td>\n",
       "</tr>\n",
       "<tr>\n",
       "   <td>beginninglower-left</td>   <td>middlelower-left</td>    <td>9.3889</td>     <td>0.9</td>  <td>-80.1275</td>   <td>98.9053</td>  <td>False</td>\n",
       "</tr>\n",
       "<tr>\n",
       "   <td>beginninglower-left</td>   <td>middlelower-right</td>   <td>134.25</td>   <td>0.0085</td>  <td>18.9894</td>  <td>249.5106</td>  <td>True</td> \n",
       "</tr>\n",
       "<tr>\n",
       "   <td>beginninglower-left</td>     <td>middlemiddle</td>       <td>134.5</td>    <td>0.001</td>  <td>33.8923</td>  <td>235.1077</td>  <td>True</td> \n",
       "</tr>\n",
       "<tr>\n",
       "   <td>beginninglower-left</td>   <td>middleupper-left</td>    <td>68.2273</td>  <td>0.2676</td> <td>-16.8983</td>  <td>153.3529</td>  <td>False</td>\n",
       "</tr>\n",
       "<tr>\n",
       "   <td>beginninglower-left</td>   <td>middleupper-right</td>    <td>101.5</td>   <td>0.0801</td>  <td>-5.2106</td>  <td>208.2106</td>  <td>False</td>\n",
       "</tr>\n",
       "<tr>\n",
       "  <td>beginninglower-right</td>    <td>beginningmiddle</td>   <td>-94.0571</td>  <td>0.2273</td> <td>-208.1356</td>  <td>20.0213</td>  <td>False</td>\n",
       "</tr>\n",
       "<tr>\n",
       "  <td>beginninglower-right</td>  <td>beginningupper-left</td> <td>-84.2833</td>  <td>0.2471</td> <td>-187.9874</td>  <td>19.4207</td>  <td>False</td>\n",
       "</tr>\n",
       "<tr>\n",
       "  <td>beginninglower-right</td> <td>beginningupper-right</td>  <td>4.1333</td>     <td>0.9</td>  <td>-138.1475</td> <td>146.4141</td>  <td>False</td>\n",
       "</tr>\n",
       "<tr>\n",
       "  <td>beginninglower-right</td>     <td>endlower-left</td>    <td>-105.3667</td> <td>0.1321</td> <td>-223.3397</td>  <td>12.6063</td>  <td>False</td>\n",
       "</tr>\n",
       "<tr>\n",
       "  <td>beginninglower-right</td>    <td>endlower-right</td>      <td>-18.2</td>     <td>0.9</td>  <td>-160.4808</td> <td>124.0808</td>  <td>False</td>\n",
       "</tr>\n",
       "<tr>\n",
       "  <td>beginninglower-right</td>       <td>endmiddle</td>        <td>-98.8</td>   <td>0.1001</td> <td>-205.5106</td>  <td>7.9106</td>   <td>False</td>\n",
       "</tr>\n",
       "<tr>\n",
       "  <td>beginninglower-right</td>     <td>endupper-left</td>      <td>-62.0</td>     <td>0.9</td>  <td>-185.2188</td>  <td>61.2188</td>  <td>False</td>\n",
       "</tr>\n",
       "<tr>\n",
       "  <td>beginninglower-right</td>    <td>endupper-right</td>     <td>-60.45</td>     <td>0.9</td>  <td>-191.1433</td>  <td>70.2433</td>  <td>False</td>\n",
       "</tr>\n",
       "<tr>\n",
       "  <td>beginninglower-right</td>   <td>middlelower-left</td>   <td>-73.3111</td>  <td>0.5457</td> <td>-181.9799</td>  <td>35.3576</td>  <td>False</td>\n",
       "</tr>\n",
       "<tr>\n",
       "  <td>beginninglower-right</td>   <td>middlelower-right</td>    <td>51.55</td>     <td>0.9</td>  <td>-79.1433</td>  <td>182.2433</td>  <td>False</td>\n",
       "</tr>\n",
       "<tr>\n",
       "  <td>beginninglower-right</td>     <td>middlemiddle</td>       <td>51.8</td>      <td>0.9</td>   <td>-66.173</td>   <td>169.773</td>  <td>False</td>\n",
       "</tr>\n",
       "<tr>\n",
       "  <td>beginninglower-right</td>   <td>middleupper-left</td>   <td>-14.4727</td>    <td>0.9</td>  <td>-119.5541</td>  <td>90.6086</td>  <td>False</td>\n",
       "</tr>\n",
       "<tr>\n",
       "  <td>beginninglower-right</td>   <td>middleupper-right</td>    <td>18.8</td>      <td>0.9</td>  <td>-104.4188</td> <td>142.0188</td>  <td>False</td>\n",
       "</tr>\n",
       "<tr>\n",
       "     <td>beginningmiddle</td>    <td>beginningupper-left</td>  <td>9.7738</td>     <td>0.9</td>  <td>-82.8844</td>  <td>102.4321</td>  <td>False</td>\n",
       "</tr>\n",
       "<tr>\n",
       "     <td>beginningmiddle</td>   <td>beginningupper-right</td>  <td>98.1905</td>  <td>0.4212</td> <td>-36.2522</td>  <td>232.6332</td>  <td>False</td>\n",
       "</tr>\n",
       "<tr>\n",
       "     <td>beginningmiddle</td>       <td>endlower-left</td>    <td>-11.3095</td>    <td>0.9</td>  <td>-119.7007</td>  <td>97.0817</td>  <td>False</td>\n",
       "</tr>\n",
       "<tr>\n",
       "     <td>beginningmiddle</td>      <td>endlower-right</td>     <td>75.8571</td>  <td>0.7827</td> <td>-58.5856</td>  <td>210.2999</td>  <td>False</td>\n",
       "</tr>\n",
       "<tr>\n",
       "     <td>beginningmiddle</td>         <td>endmiddle</td>       <td>-4.7429</td>    <td>0.9</td>  <td>-100.7542</td>  <td>91.2685</td>  <td>False</td>\n",
       "</tr>\n",
       "<tr>\n",
       "     <td>beginningmiddle</td>       <td>endupper-left</td>     <td>32.0571</td>    <td>0.9</td>  <td>-82.0213</td>  <td>146.1356</td>  <td>False</td>\n",
       "</tr>\n",
       "<tr>\n",
       "     <td>beginningmiddle</td>      <td>endupper-right</td>     <td>33.6071</td>    <td>0.9</td>  <td>-88.5065</td>  <td>155.7208</td>  <td>False</td>\n",
       "</tr>\n",
       "<tr>\n",
       "     <td>beginningmiddle</td>     <td>middlelower-left</td>    <td>20.746</td>     <td>0.9</td>  <td>-77.4371</td>  <td>118.9291</td>  <td>False</td>\n",
       "</tr>\n",
       "<tr>\n",
       "     <td>beginningmiddle</td>     <td>middlelower-right</td>  <td>145.6071</td>  <td>0.0061</td>  <td>23.4935</td>  <td>267.7208</td>  <td>True</td> \n",
       "</tr>\n",
       "<tr>\n",
       "     <td>beginningmiddle</td>       <td>middlemiddle</td>     <td>145.8571</td>   <td>0.001</td>  <td>37.466</td>   <td>254.2483</td>  <td>True</td> \n",
       "</tr>\n",
       "<tr>\n",
       "     <td>beginningmiddle</td>     <td>middleupper-left</td>    <td>79.5844</td>  <td>0.1951</td> <td>-14.6127</td>  <td>173.7816</td>  <td>False</td>\n",
       "</tr>\n",
       "<tr>\n",
       "     <td>beginningmiddle</td>     <td>middleupper-right</td>  <td>112.8571</td>  <td>0.0556</td>  <td>-1.2213</td>  <td>226.9356</td>  <td>False</td>\n",
       "</tr>\n",
       "<tr>\n",
       "   <td>beginningupper-left</td> <td>beginningupper-right</td>  <td>88.4167</td>  <td>0.4844</td>  <td>-37.343</td>  <td>214.1763</td>  <td>False</td>\n",
       "</tr>\n",
       "<tr>\n",
       "   <td>beginningupper-left</td>     <td>endlower-left</td>    <td>-21.0833</td>    <td>0.9</td>  <td>-118.4963</td>  <td>76.3297</td>  <td>False</td>\n",
       "</tr>\n",
       "<tr>\n",
       "   <td>beginningupper-left</td>    <td>endlower-right</td>     <td>66.0833</td>  <td>0.8659</td> <td>-59.6763</td>   <td>191.843</td>  <td>False</td>\n",
       "</tr>\n",
       "<tr>\n",
       "   <td>beginningupper-left</td>       <td>endmiddle</td>      <td>-14.5167</td>    <td>0.9</td>  <td>-97.9362</td>   <td>68.9028</td>  <td>False</td>\n",
       "</tr>\n",
       "<tr>\n",
       "   <td>beginningupper-left</td>     <td>endupper-left</td>     <td>22.2833</td>    <td>0.9</td>  <td>-81.4207</td>  <td>125.9874</td>  <td>False</td>\n",
       "</tr>\n",
       "<tr>\n",
       "   <td>beginningupper-left</td>    <td>endupper-right</td>     <td>23.8333</td>    <td>0.9</td>  <td>-88.6495</td>  <td>136.3162</td>  <td>False</td>\n",
       "</tr>\n",
       "<tr>\n",
       "   <td>beginningupper-left</td>   <td>middlelower-left</td>    <td>10.9722</td>    <td>0.9</td>   <td>-74.938</td>   <td>96.8824</td>  <td>False</td>\n",
       "</tr>\n",
       "<tr>\n",
       "   <td>beginningupper-left</td>   <td>middlelower-right</td>  <td>135.8333</td>  <td>0.0051</td>  <td>23.3505</td>  <td>248.3162</td>  <td>True</td> \n",
       "</tr>\n",
       "<tr>\n",
       "   <td>beginningupper-left</td>     <td>middlemiddle</td>     <td>136.0833</td>   <td>0.001</td>  <td>38.6703</td>  <td>233.4963</td>  <td>True</td> \n",
       "</tr>\n",
       "<tr>\n",
       "   <td>beginningupper-left</td>   <td>middleupper-left</td>    <td>69.8106</td>  <td>0.1755</td> <td>-11.5144</td>  <td>151.1356</td>  <td>False</td>\n",
       "</tr>\n",
       "<tr>\n",
       "   <td>beginningupper-left</td>   <td>middleupper-right</td>  <td>103.0833</td>  <td>0.0531</td>  <td>-0.6207</td>  <td>206.7874</td>  <td>False</td>\n",
       "</tr>\n",
       "<tr>\n",
       "  <td>beginningupper-right</td>     <td>endlower-left</td>     <td>-109.5</td>   <td>0.2801</td> <td>-247.2628</td>  <td>28.2628</td>  <td>False</td>\n",
       "</tr>\n",
       "<tr>\n",
       "  <td>beginningupper-right</td>    <td>endlower-right</td>    <td>-22.3333</td>    <td>0.9</td>  <td>-181.4081</td> <td>136.7414</td>  <td>False</td>\n",
       "</tr>\n",
       "<tr>\n",
       "  <td>beginningupper-right</td>       <td>endmiddle</td>      <td>-102.9333</td> <td>0.2655</td> <td>-231.1835</td>  <td>25.3168</td>  <td>False</td>\n",
       "</tr>\n",
       "<tr>\n",
       "  <td>beginningupper-right</td>     <td>endupper-left</td>    <td>-66.1333</td>    <td>0.9</td>  <td>-208.4141</td>  <td>76.1475</td>  <td>False</td>\n",
       "</tr>\n",
       "<tr>\n",
       "  <td>beginningupper-right</td>    <td>endupper-right</td>    <td>-64.5833</td>    <td>0.9</td>  <td>-213.3842</td>  <td>84.2175</td>  <td>False</td>\n",
       "</tr>\n",
       "<tr>\n",
       "  <td>beginningupper-right</td>   <td>middlelower-left</td>   <td>-77.4444</td>   <td>0.714</td> <td>-207.3285</td>  <td>52.4396</td>  <td>False</td>\n",
       "</tr>\n",
       "<tr>\n",
       "  <td>beginningupper-right</td>   <td>middlelower-right</td>   <td>47.4167</td>    <td>0.9</td>  <td>-101.3842</td> <td>196.2175</td>  <td>False</td>\n",
       "</tr>\n",
       "<tr>\n",
       "  <td>beginningupper-right</td>     <td>middlemiddle</td>      <td>47.6667</td>    <td>0.9</td>  <td>-90.0961</td>  <td>185.4295</td>  <td>False</td>\n",
       "</tr>\n",
       "<tr>\n",
       "  <td>beginningupper-right</td>   <td>middleupper-left</td>   <td>-18.6061</td>    <td>0.9</td>  <td>-145.5038</td> <td>108.2917</td>  <td>False</td>\n",
       "</tr>\n",
       "<tr>\n",
       "  <td>beginningupper-right</td>   <td>middleupper-right</td>   <td>14.6667</td>    <td>0.9</td>  <td>-127.6141</td> <td>156.9475</td>  <td>False</td>\n",
       "</tr>\n",
       "<tr>\n",
       "      <td>endlower-left</td>       <td>endlower-right</td>     <td>87.1667</td>  <td>0.6357</td> <td>-50.5961</td>  <td>224.9295</td>  <td>False</td>\n",
       "</tr>\n",
       "<tr>\n",
       "      <td>endlower-left</td>          <td>endmiddle</td>       <td>6.5667</td>     <td>0.9</td>  <td>-94.0411</td>  <td>107.1744</td>  <td>False</td>\n",
       "</tr>\n",
       "<tr>\n",
       "      <td>endlower-left</td>        <td>endupper-left</td>     <td>43.3667</td>    <td>0.9</td>  <td>-74.6063</td>  <td>161.3397</td>  <td>False</td>\n",
       "</tr>\n",
       "<tr>\n",
       "      <td>endlower-left</td>       <td>endupper-right</td>     <td>44.9167</td>    <td>0.9</td>   <td>-80.843</td>  <td>170.6763</td>  <td>False</td>\n",
       "</tr>\n",
       "<tr>\n",
       "      <td>endlower-left</td>      <td>middlelower-left</td>    <td>32.0556</td>    <td>0.9</td>  <td>-70.6268</td>  <td>134.7379</td>  <td>False</td>\n",
       "</tr>\n",
       "<tr>\n",
       "      <td>endlower-left</td>      <td>middlelower-right</td>  <td>156.9167</td>  <td>0.0031</td>  <td>31.157</td>   <td>282.6763</td>  <td>True</td> \n",
       "</tr>\n",
       "<tr>\n",
       "      <td>endlower-left</td>        <td>middlemiddle</td>     <td>157.1667</td>   <td>0.001</td>  <td>44.6838</td>  <td>269.6495</td>  <td>True</td> \n",
       "</tr>\n",
       "<tr>\n",
       "      <td>endlower-left</td>      <td>middleupper-left</td>    <td>90.8939</td>  <td>0.1062</td>  <td>-7.984</td>   <td>189.7719</td>  <td>False</td>\n",
       "</tr>\n",
       "<tr>\n",
       "      <td>endlower-left</td>      <td>middleupper-right</td>  <td>124.1667</td>  <td>0.0294</td>  <td>6.1937</td>   <td>242.1397</td>  <td>True</td> \n",
       "</tr>\n",
       "<tr>\n",
       "     <td>endlower-right</td>          <td>endmiddle</td>        <td>-80.6</td>   <td>0.6448</td> <td>-208.8502</td>  <td>47.6502</td>  <td>False</td>\n",
       "</tr>\n",
       "<tr>\n",
       "     <td>endlower-right</td>        <td>endupper-left</td>      <td>-43.8</td>     <td>0.9</td>  <td>-186.0808</td>  <td>98.4808</td>  <td>False</td>\n",
       "</tr>\n",
       "<tr>\n",
       "     <td>endlower-right</td>       <td>endupper-right</td>     <td>-42.25</td>     <td>0.9</td>  <td>-191.0508</td> <td>106.5508</td>  <td>False</td>\n",
       "</tr>\n",
       "<tr>\n",
       "     <td>endlower-right</td>      <td>middlelower-left</td>   <td>-55.1111</td>    <td>0.9</td>  <td>-184.9951</td>  <td>74.7729</td>  <td>False</td>\n",
       "</tr>\n",
       "<tr>\n",
       "     <td>endlower-right</td>      <td>middlelower-right</td>    <td>69.75</td>     <td>0.9</td>  <td>-79.0508</td>  <td>218.5508</td>  <td>False</td>\n",
       "</tr>\n",
       "<tr>\n",
       "     <td>endlower-right</td>        <td>middlemiddle</td>       <td>70.0</td>      <td>0.9</td>  <td>-67.7628</td>  <td>207.7628</td>  <td>False</td>\n",
       "</tr>\n",
       "<tr>\n",
       "     <td>endlower-right</td>      <td>middleupper-left</td>    <td>3.7273</td>     <td>0.9</td>  <td>-123.1705</td>  <td>130.625</td>  <td>False</td>\n",
       "</tr>\n",
       "<tr>\n",
       "     <td>endlower-right</td>      <td>middleupper-right</td>    <td>37.0</td>      <td>0.9</td>  <td>-105.2808</td> <td>179.2808</td>  <td>False</td>\n",
       "</tr>\n",
       "<tr>\n",
       "        <td>endmiddle</td>          <td>endupper-left</td>      <td>36.8</td>      <td>0.9</td>  <td>-69.9106</td>  <td>143.5106</td>  <td>False</td>\n",
       "</tr>\n",
       "<tr>\n",
       "        <td>endmiddle</td>         <td>endupper-right</td>      <td>38.35</td>     <td>0.9</td>  <td>-76.9106</td>  <td>153.6106</td>  <td>False</td>\n",
       "</tr>\n",
       "<tr>\n",
       "        <td>endmiddle</td>        <td>middlelower-left</td>    <td>25.4889</td>    <td>0.9</td>  <td>-64.0275</td>  <td>115.0053</td>  <td>False</td>\n",
       "</tr>\n",
       "<tr>\n",
       "        <td>endmiddle</td>        <td>middlelower-right</td>   <td>150.35</td>   <td>0.0015</td>  <td>35.0894</td>  <td>265.6106</td>  <td>True</td> \n",
       "</tr>\n",
       "<tr>\n",
       "        <td>endmiddle</td>          <td>middlemiddle</td>       <td>150.6</td>    <td>0.001</td>  <td>49.9923</td>  <td>251.2077</td>  <td>True</td> \n",
       "</tr>\n",
       "<tr>\n",
       "        <td>endmiddle</td>        <td>middleupper-left</td>    <td>84.3273</td>  <td>0.0549</td>  <td>-0.7983</td>  <td>169.4529</td>  <td>False</td>\n",
       "</tr>\n",
       "<tr>\n",
       "        <td>endmiddle</td>        <td>middleupper-right</td>    <td>117.6</td>   <td>0.0173</td>  <td>10.8894</td>  <td>224.3106</td>  <td>True</td> \n",
       "</tr>\n",
       "<tr>\n",
       "      <td>endupper-left</td>       <td>endupper-right</td>      <td>1.55</td>      <td>0.9</td>  <td>-129.1433</td> <td>132.2433</td>  <td>False</td>\n",
       "</tr>\n",
       "<tr>\n",
       "      <td>endupper-left</td>      <td>middlelower-left</td>   <td>-11.3111</td>    <td>0.9</td>  <td>-119.9799</td>  <td>97.3576</td>  <td>False</td>\n",
       "</tr>\n",
       "<tr>\n",
       "      <td>endupper-left</td>      <td>middlelower-right</td>   <td>113.55</td>   <td>0.1621</td> <td>-17.1433</td>  <td>244.2433</td>  <td>False</td>\n",
       "</tr>\n",
       "<tr>\n",
       "      <td>endupper-left</td>        <td>middlemiddle</td>       <td>113.8</td>   <td>0.0706</td>  <td>-4.173</td>    <td>231.773</td>  <td>False</td>\n",
       "</tr>\n",
       "<tr>\n",
       "      <td>endupper-left</td>      <td>middleupper-left</td>    <td>47.5273</td>    <td>0.9</td>  <td>-57.5541</td>  <td>152.6086</td>  <td>False</td>\n",
       "</tr>\n",
       "<tr>\n",
       "      <td>endupper-left</td>      <td>middleupper-right</td>    <td>80.8</td>    <td>0.5863</td> <td>-42.4188</td>  <td>204.0188</td>  <td>False</td>\n",
       "</tr>\n",
       "<tr>\n",
       "     <td>endupper-right</td>      <td>middlelower-left</td>   <td>-12.8611</td>    <td>0.9</td>  <td>-129.937</td>  <td>104.2148</td>  <td>False</td>\n",
       "</tr>\n",
       "<tr>\n",
       "     <td>endupper-right</td>      <td>middlelower-right</td>    <td>112.0</td>   <td>0.2466</td> <td>-25.7628</td>  <td>249.7628</td>  <td>False</td>\n",
       "</tr>\n",
       "<tr>\n",
       "     <td>endupper-right</td>        <td>middlemiddle</td>      <td>112.25</td>   <td>0.1328</td> <td>-13.5097</td>  <td>238.0097</td>  <td>False</td>\n",
       "</tr>\n",
       "<tr>\n",
       "     <td>endupper-right</td>      <td>middleupper-left</td>    <td>45.9773</td>    <td>0.9</td>  <td>-67.7766</td>  <td>159.7312</td>  <td>False</td>\n",
       "</tr>\n",
       "<tr>\n",
       "     <td>endupper-right</td>      <td>middleupper-right</td>    <td>79.25</td>   <td>0.6922</td> <td>-51.4433</td>  <td>209.9433</td>  <td>False</td>\n",
       "</tr>\n",
       "<tr>\n",
       "    <td>middlelower-left</td>     <td>middlelower-right</td>  <td>124.8611</td>  <td>0.0253</td>  <td>7.7852</td>    <td>241.937</td>  <td>True</td> \n",
       "</tr>\n",
       "<tr>\n",
       "    <td>middlelower-left</td>       <td>middlemiddle</td>     <td>125.1111</td>  <td>0.0045</td>  <td>22.4288</td>  <td>227.7934</td>  <td>True</td> \n",
       "</tr>\n",
       "<tr>\n",
       "    <td>middlelower-left</td>     <td>middleupper-left</td>    <td>58.8384</td>  <td>0.5515</td> <td>-28.7294</td>  <td>146.4062</td>  <td>False</td>\n",
       "</tr>\n",
       "<tr>\n",
       "    <td>middlelower-left</td>     <td>middleupper-right</td>   <td>92.1111</td>  <td>0.1909</td> <td>-16.5576</td>  <td>200.7799</td>  <td>False</td>\n",
       "</tr>\n",
       "<tr>\n",
       "    <td>middlelower-right</td>      <td>middlemiddle</td>       <td>0.25</td>      <td>0.9</td>  <td>-125.5097</td> <td>126.0097</td>  <td>False</td>\n",
       "</tr>\n",
       "<tr>\n",
       "    <td>middlelower-right</td>    <td>middleupper-left</td>   <td>-66.0227</td>   <td>0.748</td> <td>-179.7766</td>  <td>47.7312</td>  <td>False</td>\n",
       "</tr>\n",
       "<tr>\n",
       "    <td>middlelower-right</td>    <td>middleupper-right</td>   <td>-32.75</td>     <td>0.9</td>  <td>-163.4433</td>  <td>97.9433</td>  <td>False</td>\n",
       "</tr>\n",
       "<tr>\n",
       "      <td>middlemiddle</td>       <td>middleupper-left</td>   <td>-66.2727</td>  <td>0.5551</td> <td>-165.1507</td>  <td>32.6052</td>  <td>False</td>\n",
       "</tr>\n",
       "<tr>\n",
       "      <td>middlemiddle</td>       <td>middleupper-right</td>    <td>-33.0</td>     <td>0.9</td>  <td>-150.973</td>   <td>84.973</td>   <td>False</td>\n",
       "</tr>\n",
       "<tr>\n",
       "    <td>middleupper-left</td>     <td>middleupper-right</td>   <td>33.2727</td>    <td>0.9</td>  <td>-71.8086</td>  <td>138.3541</td>  <td>False</td>\n",
       "</tr>\n",
       "</table>"
      ],
      "text/plain": [
       "<class 'statsmodels.iolib.table.SimpleTable'>"
      ]
     },
     "execution_count": 83,
     "metadata": {},
     "output_type": "execute_result"
    }
   ],
   "source": [
    "tukey_results = pairwise_tukeyhsd(df['Conversion'], df['Video_Location']+df['Button_Location'])\n",
    "tukey_results.summary()"
   ]
  },
  {
   "cell_type": "markdown",
   "metadata": {},
   "source": [
    "## Visualizing Tukey Results "
   ]
  },
  {
   "cell_type": "code",
   "execution_count": 90,
   "metadata": {
    "slideshow": {
     "slide_type": "slide"
    }
   },
   "outputs": [
    {
     "data": {
      "image/png": "[encoded data removed]",
      "text/plain": [
       "<Figure size 720x432 with 1 Axes>"
      ]
     },
     "metadata": {},
     "output_type": "display_data"
    }
   ],
   "source": [
    "tukey_results.plot_simultaneous(comparison_name='endlower-left')\n",
    "plt.show()"
   ]
  },
  {
   "cell_type": "code",
   "execution_count": 89,
   "metadata": {
    "scrolled": true,
    "slideshow": {
     "slide_type": "slide"
    }
   },
   "outputs": [
    {
     "data": {
      "image/png": "[encoded data removed]",
      "text/plain": [
       "<Figure size 576x396 with 1 Axes>"
      ]
     },
     "metadata": {},
     "output_type": "display_data"
    }
   ],
   "source": [
    "from statsmodels.graphics.factorplots import interaction_plot\n",
    "interaction_plot(response=df['Conversion'], \n",
    "                 trace=df['Button_Location'],  \n",
    "                 x=df['Video_Location'].astype('category').cat.codes)\n",
    "plt.xlabel('Video Location')\n",
    "plt.show()"
   ]
  },
  {
   "cell_type": "markdown",
   "metadata": {},
   "source": [
    "## Summary"
   ]
  },
  {
   "cell_type": "markdown",
   "metadata": {
    "slideshow": {
     "slide_type": "fragment"
    }
   },
   "source": [
    "From this we can reject the first, second and third null hypotheses. There is some statistically significant differnce for the different Video_Location, as well as Button_Location. There is also some statistically significant interaction between Video_Location and Button_Location.\n"
   ]
  }
 ],
 "metadata": {
  "kernelspec": {
   "display_name": "Python 3",
   "language": "python",
   "name": "python3"
  },
  "language_info": {
   "codemirror_mode": {
    "name": "ipython",
    "version": 3
   },
   "file_extension": ".py",
   "mimetype": "text/x-python",
   "name": "python",
   "nbconvert_exporter": "python",
   "pygments_lexer": "ipython3",
   "version": "3.7.3"
  }
 },
 "nbformat": 4,
 "nbformat_minor": 2
}
